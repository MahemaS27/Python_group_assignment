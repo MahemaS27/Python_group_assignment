{
 "cells": [
  {
   "cell_type": "markdown",
   "metadata": {},
   "source": [
    "# Group Assignment"
   ]
  },
  {
   "cell_type": "markdown",
   "metadata": {},
   "source": [
    "### Import the necessary libraries"
   ]
  },
  {
   "cell_type": "code",
   "execution_count": 6,
   "metadata": {},
   "outputs": [],
   "source": [
    "import pandas as pd\n",
    "import pandas_datareader.data as web\n",
    "import numpy as np\n",
    "import datetime as dt"
   ]
  },
  {
   "cell_type": "markdown",
   "metadata": {},
   "source": [
    "## PART I"
   ]
  },
  {
   "cell_type": "markdown",
   "metadata": {},
   "source": [
    "## Examination of the January Effect\n",
    "### The January Effect's main hypothesis states that stock returns are, on average, higher during January than during other months."
   ]
  },
  {
   "cell_type": "markdown",
   "metadata": {},
   "source": [
    "### 1. Download pricing data from Yahoo!Finance for each of the stocks in the ticker_list below and compute the continuously compounded daily returns using the Adjusted Closing price. Store these daily returns in a DataFrame called returns. Label the columns as 'RET_ticker', where ticker represents the trading symbol of the stock whose returns are stored in that column."
   ]
  },
  {
   "cell_type": "code",
   "execution_count": 7,
   "metadata": {},
   "outputs": [],
   "source": [
    "ticker_list = ['AAPL', 'AXP', 'BA', 'CAT', 'CSCO', 'CVX', 'DIS', 'GS', 'HD', 'IBM', 'INTC', 'JNJ', 'JPM', 'KO',\n",
    "            'MCD', 'MMM', 'MRK', 'MSFT', 'NKE', 'PFE', 'PG', 'TRV', 'UNH', 'UTX', 'V', 'VZ', 'WMT', 'XOM']"
   ]
  },
  {
   "cell_type": "code",
   "execution_count": 12,
   "metadata": {},
   "outputs": [],
   "source": [
    "returns = web.DataReader(ticker_list, 'yahoo')"
   ]
  },
  {
   "cell_type": "code",
   "execution_count": 13,
   "metadata": {},
   "outputs": [
    {
     "data": {
      "text/html": [
       "<div>\n",
       "<style scoped>\n",
       "    .dataframe tbody tr th:only-of-type {\n",
       "        vertical-align: middle;\n",
       "    }\n",
       "\n",
       "    .dataframe tbody tr th {\n",
       "        vertical-align: top;\n",
       "    }\n",
       "\n",
       "    .dataframe thead tr th {\n",
       "        text-align: left;\n",
       "    }\n",
       "\n",
       "    .dataframe thead tr:last-of-type th {\n",
       "        text-align: right;\n",
       "    }\n",
       "</style>\n",
       "<table border=\"1\" class=\"dataframe\">\n",
       "  <thead>\n",
       "    <tr>\n",
       "      <th>Attributes</th>\n",
       "      <th colspan=\"10\" halign=\"left\">Adj Close</th>\n",
       "      <th>...</th>\n",
       "      <th colspan=\"10\" halign=\"left\">Volume</th>\n",
       "    </tr>\n",
       "    <tr>\n",
       "      <th>Symbols</th>\n",
       "      <th>AAPL</th>\n",
       "      <th>AXP</th>\n",
       "      <th>BA</th>\n",
       "      <th>CAT</th>\n",
       "      <th>CSCO</th>\n",
       "      <th>CVX</th>\n",
       "      <th>DIS</th>\n",
       "      <th>GS</th>\n",
       "      <th>HD</th>\n",
       "      <th>IBM</th>\n",
       "      <th>...</th>\n",
       "      <th>NKE</th>\n",
       "      <th>PFE</th>\n",
       "      <th>PG</th>\n",
       "      <th>TRV</th>\n",
       "      <th>UNH</th>\n",
       "      <th>UTX</th>\n",
       "      <th>V</th>\n",
       "      <th>VZ</th>\n",
       "      <th>WMT</th>\n",
       "      <th>XOM</th>\n",
       "    </tr>\n",
       "    <tr>\n",
       "      <th>Date</th>\n",
       "      <th></th>\n",
       "      <th></th>\n",
       "      <th></th>\n",
       "      <th></th>\n",
       "      <th></th>\n",
       "      <th></th>\n",
       "      <th></th>\n",
       "      <th></th>\n",
       "      <th></th>\n",
       "      <th></th>\n",
       "      <th></th>\n",
       "      <th></th>\n",
       "      <th></th>\n",
       "      <th></th>\n",
       "      <th></th>\n",
       "      <th></th>\n",
       "      <th></th>\n",
       "      <th></th>\n",
       "      <th></th>\n",
       "      <th></th>\n",
       "      <th></th>\n",
       "    </tr>\n",
       "  </thead>\n",
       "  <tbody>\n",
       "    <tr>\n",
       "      <td>2015-03-19</td>\n",
       "      <td>117.333099</td>\n",
       "      <td>75.381355</td>\n",
       "      <td>134.582214</td>\n",
       "      <td>67.653015</td>\n",
       "      <td>24.135815</td>\n",
       "      <td>85.214813</td>\n",
       "      <td>100.070274</td>\n",
       "      <td>175.698196</td>\n",
       "      <td>102.699158</td>\n",
       "      <td>128.341202</td>\n",
       "      <td>...</td>\n",
       "      <td>13536000.0</td>\n",
       "      <td>20437400.0</td>\n",
       "      <td>9257500.0</td>\n",
       "      <td>1448500.0</td>\n",
       "      <td>4032500.0</td>\n",
       "      <td>2880800.0</td>\n",
       "      <td>15407500.0</td>\n",
       "      <td>13625000.0</td>\n",
       "      <td>7212900.0</td>\n",
       "      <td>12738500.0</td>\n",
       "    </tr>\n",
       "    <tr>\n",
       "      <td>2015-03-20</td>\n",
       "      <td>115.860680</td>\n",
       "      <td>76.453728</td>\n",
       "      <td>134.922791</td>\n",
       "      <td>68.582230</td>\n",
       "      <td>24.289543</td>\n",
       "      <td>87.069588</td>\n",
       "      <td>101.058205</td>\n",
       "      <td>178.620819</td>\n",
       "      <td>104.777061</td>\n",
       "      <td>130.806686</td>\n",
       "      <td>...</td>\n",
       "      <td>29779800.0</td>\n",
       "      <td>59160700.0</td>\n",
       "      <td>22580300.0</td>\n",
       "      <td>4366100.0</td>\n",
       "      <td>7195700.0</td>\n",
       "      <td>8207000.0</td>\n",
       "      <td>15372000.0</td>\n",
       "      <td>26280800.0</td>\n",
       "      <td>12365300.0</td>\n",
       "      <td>36083500.0</td>\n",
       "    </tr>\n",
       "    <tr>\n",
       "      <td>2015-03-23</td>\n",
       "      <td>117.066200</td>\n",
       "      <td>75.991508</td>\n",
       "      <td>133.446930</td>\n",
       "      <td>68.497742</td>\n",
       "      <td>24.263922</td>\n",
       "      <td>86.166611</td>\n",
       "      <td>100.862495</td>\n",
       "      <td>177.538681</td>\n",
       "      <td>103.510704</td>\n",
       "      <td>132.212097</td>\n",
       "      <td>...</td>\n",
       "      <td>10471800.0</td>\n",
       "      <td>50806000.0</td>\n",
       "      <td>9891100.0</td>\n",
       "      <td>1535500.0</td>\n",
       "      <td>4576500.0</td>\n",
       "      <td>4542800.0</td>\n",
       "      <td>8128000.0</td>\n",
       "      <td>13131700.0</td>\n",
       "      <td>6505700.0</td>\n",
       "      <td>17450700.0</td>\n",
       "    </tr>\n",
       "    <tr>\n",
       "      <td>2015-03-24</td>\n",
       "      <td>116.587677</td>\n",
       "      <td>75.224182</td>\n",
       "      <td>132.433884</td>\n",
       "      <td>67.982475</td>\n",
       "      <td>23.913759</td>\n",
       "      <td>84.767357</td>\n",
       "      <td>99.827957</td>\n",
       "      <td>176.909760</td>\n",
       "      <td>103.582047</td>\n",
       "      <td>130.903015</td>\n",
       "      <td>...</td>\n",
       "      <td>7598800.0</td>\n",
       "      <td>33163100.0</td>\n",
       "      <td>7478800.0</td>\n",
       "      <td>1217000.0</td>\n",
       "      <td>3054700.0</td>\n",
       "      <td>4033800.0</td>\n",
       "      <td>6534800.0</td>\n",
       "      <td>11419600.0</td>\n",
       "      <td>5359100.0</td>\n",
       "      <td>10174300.0</td>\n",
       "    </tr>\n",
       "    <tr>\n",
       "      <td>2015-03-25</td>\n",
       "      <td>113.541618</td>\n",
       "      <td>74.059357</td>\n",
       "      <td>129.447250</td>\n",
       "      <td>67.458748</td>\n",
       "      <td>23.452562</td>\n",
       "      <td>85.963242</td>\n",
       "      <td>97.861412</td>\n",
       "      <td>173.275009</td>\n",
       "      <td>101.379303</td>\n",
       "      <td>127.851295</td>\n",
       "      <td>...</td>\n",
       "      <td>8133400.0</td>\n",
       "      <td>29206100.0</td>\n",
       "      <td>8482200.0</td>\n",
       "      <td>1663600.0</td>\n",
       "      <td>3385500.0</td>\n",
       "      <td>4456500.0</td>\n",
       "      <td>13054300.0</td>\n",
       "      <td>14915500.0</td>\n",
       "      <td>6645900.0</td>\n",
       "      <td>11934700.0</td>\n",
       "    </tr>\n",
       "    <tr>\n",
       "      <td>...</td>\n",
       "      <td>...</td>\n",
       "      <td>...</td>\n",
       "      <td>...</td>\n",
       "      <td>...</td>\n",
       "      <td>...</td>\n",
       "      <td>...</td>\n",
       "      <td>...</td>\n",
       "      <td>...</td>\n",
       "      <td>...</td>\n",
       "      <td>...</td>\n",
       "      <td>...</td>\n",
       "      <td>...</td>\n",
       "      <td>...</td>\n",
       "      <td>...</td>\n",
       "      <td>...</td>\n",
       "      <td>...</td>\n",
       "      <td>...</td>\n",
       "      <td>...</td>\n",
       "      <td>...</td>\n",
       "      <td>...</td>\n",
       "      <td>...</td>\n",
       "    </tr>\n",
       "    <tr>\n",
       "      <td>2020-03-11</td>\n",
       "      <td>275.429993</td>\n",
       "      <td>95.379997</td>\n",
       "      <td>189.080002</td>\n",
       "      <td>100.690002</td>\n",
       "      <td>37.049999</td>\n",
       "      <td>83.029999</td>\n",
       "      <td>105.510002</td>\n",
       "      <td>171.889999</td>\n",
       "      <td>212.889999</td>\n",
       "      <td>117.970001</td>\n",
       "      <td>...</td>\n",
       "      <td>16172000.0</td>\n",
       "      <td>62002100.0</td>\n",
       "      <td>16456000.0</td>\n",
       "      <td>3032200.0</td>\n",
       "      <td>7744600.0</td>\n",
       "      <td>10287400.0</td>\n",
       "      <td>14598200.0</td>\n",
       "      <td>21147400.0</td>\n",
       "      <td>10540000.0</td>\n",
       "      <td>51986100.0</td>\n",
       "    </tr>\n",
       "    <tr>\n",
       "      <td>2020-03-12</td>\n",
       "      <td>248.229996</td>\n",
       "      <td>83.529999</td>\n",
       "      <td>154.839996</td>\n",
       "      <td>92.260002</td>\n",
       "      <td>33.200001</td>\n",
       "      <td>76.260002</td>\n",
       "      <td>91.809998</td>\n",
       "      <td>150.679993</td>\n",
       "      <td>190.589996</td>\n",
       "      <td>102.809998</td>\n",
       "      <td>...</td>\n",
       "      <td>21534800.0</td>\n",
       "      <td>59517500.0</td>\n",
       "      <td>20988000.0</td>\n",
       "      <td>3485600.0</td>\n",
       "      <td>10496600.0</td>\n",
       "      <td>19285400.0</td>\n",
       "      <td>27467700.0</td>\n",
       "      <td>45610600.0</td>\n",
       "      <td>18774400.0</td>\n",
       "      <td>65725300.0</td>\n",
       "    </tr>\n",
       "    <tr>\n",
       "      <td>2020-03-13</td>\n",
       "      <td>277.970001</td>\n",
       "      <td>99.599998</td>\n",
       "      <td>170.199997</td>\n",
       "      <td>99.639999</td>\n",
       "      <td>37.639999</td>\n",
       "      <td>83.419998</td>\n",
       "      <td>102.519997</td>\n",
       "      <td>177.169998</td>\n",
       "      <td>205.669998</td>\n",
       "      <td>107.949997</td>\n",
       "      <td>...</td>\n",
       "      <td>21859600.0</td>\n",
       "      <td>57450700.0</td>\n",
       "      <td>17378700.0</td>\n",
       "      <td>3602300.0</td>\n",
       "      <td>9308400.0</td>\n",
       "      <td>16771300.0</td>\n",
       "      <td>19948900.0</td>\n",
       "      <td>45744000.0</td>\n",
       "      <td>14320700.0</td>\n",
       "      <td>79891500.0</td>\n",
       "    </tr>\n",
       "    <tr>\n",
       "      <td>2020-03-16</td>\n",
       "      <td>242.210007</td>\n",
       "      <td>85.870003</td>\n",
       "      <td>129.610001</td>\n",
       "      <td>93.410004</td>\n",
       "      <td>33.709999</td>\n",
       "      <td>69.699997</td>\n",
       "      <td>95.010002</td>\n",
       "      <td>154.660004</td>\n",
       "      <td>164.960007</td>\n",
       "      <td>99.080002</td>\n",
       "      <td>...</td>\n",
       "      <td>17972300.0</td>\n",
       "      <td>48365700.0</td>\n",
       "      <td>17366400.0</td>\n",
       "      <td>4731100.0</td>\n",
       "      <td>10298800.0</td>\n",
       "      <td>12325300.0</td>\n",
       "      <td>23681300.0</td>\n",
       "      <td>36974200.0</td>\n",
       "      <td>12248200.0</td>\n",
       "      <td>48904800.0</td>\n",
       "    </tr>\n",
       "    <tr>\n",
       "      <td>2020-03-17</td>\n",
       "      <td>252.860001</td>\n",
       "      <td>86.580002</td>\n",
       "      <td>124.139999</td>\n",
       "      <td>100.199997</td>\n",
       "      <td>35.500000</td>\n",
       "      <td>70.690002</td>\n",
       "      <td>93.529999</td>\n",
       "      <td>158.669998</td>\n",
       "      <td>173.639999</td>\n",
       "      <td>106.650002</td>\n",
       "      <td>...</td>\n",
       "      <td>16017566.0</td>\n",
       "      <td>50853826.0</td>\n",
       "      <td>19431911.0</td>\n",
       "      <td>5271627.0</td>\n",
       "      <td>9529229.0</td>\n",
       "      <td>15633722.0</td>\n",
       "      <td>21695114.0</td>\n",
       "      <td>32782269.0</td>\n",
       "      <td>17516479.0</td>\n",
       "      <td>40641101.0</td>\n",
       "    </tr>\n",
       "  </tbody>\n",
       "</table>\n",
       "<p>1258 rows × 168 columns</p>\n",
       "</div>"
      ],
      "text/plain": [
       "Attributes   Adj Close                                                \\\n",
       "Symbols           AAPL        AXP          BA         CAT       CSCO   \n",
       "Date                                                                   \n",
       "2015-03-19  117.333099  75.381355  134.582214   67.653015  24.135815   \n",
       "2015-03-20  115.860680  76.453728  134.922791   68.582230  24.289543   \n",
       "2015-03-23  117.066200  75.991508  133.446930   68.497742  24.263922   \n",
       "2015-03-24  116.587677  75.224182  132.433884   67.982475  23.913759   \n",
       "2015-03-25  113.541618  74.059357  129.447250   67.458748  23.452562   \n",
       "...                ...        ...         ...         ...        ...   \n",
       "2020-03-11  275.429993  95.379997  189.080002  100.690002  37.049999   \n",
       "2020-03-12  248.229996  83.529999  154.839996   92.260002  33.200001   \n",
       "2020-03-13  277.970001  99.599998  170.199997   99.639999  37.639999   \n",
       "2020-03-16  242.210007  85.870003  129.610001   93.410004  33.709999   \n",
       "2020-03-17  252.860001  86.580002  124.139999  100.199997  35.500000   \n",
       "\n",
       "Attributes                                                             ...  \\\n",
       "Symbols           CVX         DIS          GS          HD         IBM  ...   \n",
       "Date                                                                   ...   \n",
       "2015-03-19  85.214813  100.070274  175.698196  102.699158  128.341202  ...   \n",
       "2015-03-20  87.069588  101.058205  178.620819  104.777061  130.806686  ...   \n",
       "2015-03-23  86.166611  100.862495  177.538681  103.510704  132.212097  ...   \n",
       "2015-03-24  84.767357   99.827957  176.909760  103.582047  130.903015  ...   \n",
       "2015-03-25  85.963242   97.861412  173.275009  101.379303  127.851295  ...   \n",
       "...               ...         ...         ...         ...         ...  ...   \n",
       "2020-03-11  83.029999  105.510002  171.889999  212.889999  117.970001  ...   \n",
       "2020-03-12  76.260002   91.809998  150.679993  190.589996  102.809998  ...   \n",
       "2020-03-13  83.419998  102.519997  177.169998  205.669998  107.949997  ...   \n",
       "2020-03-16  69.699997   95.010002  154.660004  164.960007   99.080002  ...   \n",
       "2020-03-17  70.690002   93.529999  158.669998  173.639999  106.650002  ...   \n",
       "\n",
       "Attributes      Volume                                                 \\\n",
       "Symbols            NKE         PFE          PG        TRV         UNH   \n",
       "Date                                                                    \n",
       "2015-03-19  13536000.0  20437400.0   9257500.0  1448500.0   4032500.0   \n",
       "2015-03-20  29779800.0  59160700.0  22580300.0  4366100.0   7195700.0   \n",
       "2015-03-23  10471800.0  50806000.0   9891100.0  1535500.0   4576500.0   \n",
       "2015-03-24   7598800.0  33163100.0   7478800.0  1217000.0   3054700.0   \n",
       "2015-03-25   8133400.0  29206100.0   8482200.0  1663600.0   3385500.0   \n",
       "...                ...         ...         ...        ...         ...   \n",
       "2020-03-11  16172000.0  62002100.0  16456000.0  3032200.0   7744600.0   \n",
       "2020-03-12  21534800.0  59517500.0  20988000.0  3485600.0  10496600.0   \n",
       "2020-03-13  21859600.0  57450700.0  17378700.0  3602300.0   9308400.0   \n",
       "2020-03-16  17972300.0  48365700.0  17366400.0  4731100.0  10298800.0   \n",
       "2020-03-17  16017566.0  50853826.0  19431911.0  5271627.0   9529229.0   \n",
       "\n",
       "Attributes                                                              \n",
       "Symbols            UTX           V          VZ         WMT         XOM  \n",
       "Date                                                                    \n",
       "2015-03-19   2880800.0  15407500.0  13625000.0   7212900.0  12738500.0  \n",
       "2015-03-20   8207000.0  15372000.0  26280800.0  12365300.0  36083500.0  \n",
       "2015-03-23   4542800.0   8128000.0  13131700.0   6505700.0  17450700.0  \n",
       "2015-03-24   4033800.0   6534800.0  11419600.0   5359100.0  10174300.0  \n",
       "2015-03-25   4456500.0  13054300.0  14915500.0   6645900.0  11934700.0  \n",
       "...                ...         ...         ...         ...         ...  \n",
       "2020-03-11  10287400.0  14598200.0  21147400.0  10540000.0  51986100.0  \n",
       "2020-03-12  19285400.0  27467700.0  45610600.0  18774400.0  65725300.0  \n",
       "2020-03-13  16771300.0  19948900.0  45744000.0  14320700.0  79891500.0  \n",
       "2020-03-16  12325300.0  23681300.0  36974200.0  12248200.0  48904800.0  \n",
       "2020-03-17  15633722.0  21695114.0  32782269.0  17516479.0  40641101.0  \n",
       "\n",
       "[1258 rows x 168 columns]"
      ]
     },
     "execution_count": 13,
     "metadata": {},
     "output_type": "execute_result"
    }
   ],
   "source": [
    "returns"
   ]
  },
  {
   "cell_type": "markdown",
   "metadata": {},
   "source": [
    "### 2. Compute the monthly returns and store them in a DataFrame named returns_mon. (*Use the resample() method and the rule = 'BM' - Business Month End to compute the monthly returns*). "
   ]
  },
  {
   "cell_type": "code",
   "execution_count": null,
   "metadata": {},
   "outputs": [],
   "source": []
  },
  {
   "cell_type": "markdown",
   "metadata": {},
   "source": [
    "### 3. Create a dummy variable (labeled \"JAN_DUMMY\") in the DataFrame returns_mon, and assign it a value of 1 if the month is January, and 0 otherwise."
   ]
  },
  {
   "cell_type": "code",
   "execution_count": null,
   "metadata": {
    "scrolled": false
   },
   "outputs": [],
   "source": []
  },
  {
   "cell_type": "markdown",
   "metadata": {},
   "source": [
    "### 4. Use the DataFrame returns_mon to compute the average returns in January, and during non-January months for each year and for each stock, and store them in a new DataFrame named returns_jan_mon. "
   ]
  },
  {
   "cell_type": "code",
   "execution_count": null,
   "metadata": {
    "scrolled": true
   },
   "outputs": [],
   "source": []
  },
  {
   "cell_type": "markdown",
   "metadata": {},
   "source": [
    "### 5. a. Use the DataFrame returns_mon_jan to test, for each stock, whether the average return in January is higher than the average return on non-January months. Store the t-tests and p-values in a Dataframe called results_stock, along with the average returns in January, and during non-January months for each stock. The heading for the DataFrame is found below:"
   ]
  },
  {
   "cell_type": "code",
   "execution_count": 45,
   "metadata": {
    "scrolled": true
   },
   "outputs": [
    {
     "data": {
      "text/html": [
       "<div>\n",
       "<style scoped>\n",
       "    .dataframe tbody tr th:only-of-type {\n",
       "        vertical-align: middle;\n",
       "    }\n",
       "\n",
       "    .dataframe tbody tr th {\n",
       "        vertical-align: top;\n",
       "    }\n",
       "\n",
       "    .dataframe thead th {\n",
       "        text-align: right;\n",
       "    }\n",
       "</style>\n",
       "<table border=\"1\" class=\"dataframe\">\n",
       "  <thead>\n",
       "    <tr style=\"text-align: right;\">\n",
       "      <th></th>\n",
       "      <th>Avg_Jan</th>\n",
       "      <th>Avg_NonJan</th>\n",
       "      <th>T_Test</th>\n",
       "      <th>P_Value</th>\n",
       "    </tr>\n",
       "    <tr>\n",
       "      <th>Ticker</th>\n",
       "      <th></th>\n",
       "      <th></th>\n",
       "      <th></th>\n",
       "      <th></th>\n",
       "    </tr>\n",
       "  </thead>\n",
       "  <tbody>\n",
       "  </tbody>\n",
       "</table>\n",
       "</div>"
      ],
      "text/plain": [
       "Empty DataFrame\n",
       "Columns: [Avg_Jan, Avg_NonJan, T_Test, P_Value]\n",
       "Index: []"
      ]
     },
     "execution_count": 45,
     "metadata": {},
     "output_type": "execute_result"
    }
   ],
   "source": [
    "results_stock.head(0)"
   ]
  },
  {
   "cell_type": "code",
   "execution_count": null,
   "metadata": {
    "scrolled": false
   },
   "outputs": [],
   "source": []
  },
  {
   "cell_type": "markdown",
   "metadata": {},
   "source": [
    "### 5. b. Use the DataFrame results_stock to output the stocks for which the January effect hypothesis is true with a 95% degree of confidence. What about the observations where the hypothesis is true with 90% degree of confidence."
   ]
  },
  {
   "cell_type": "code",
   "execution_count": null,
   "metadata": {
    "scrolled": true
   },
   "outputs": [],
   "source": []
  },
  {
   "cell_type": "code",
   "execution_count": null,
   "metadata": {
    "scrolled": true
   },
   "outputs": [],
   "source": []
  },
  {
   "cell_type": "markdown",
   "metadata": {},
   "source": [
    "### 6. a. Use the DataFrame returns_mon_jan to test, for each year, whether the average return in January is different from the average return on non-January months. Store the t-tests and p-values in a Dataframe called results_year, along with the average returns in January, and during non-January months for each year. The heading for the DataFrame is found below:"
   ]
  },
  {
   "cell_type": "code",
   "execution_count": 45,
   "metadata": {
    "scrolled": true
   },
   "outputs": [
    {
     "data": {
      "text/html": [
       "<div>\n",
       "<style scoped>\n",
       "    .dataframe tbody tr th:only-of-type {\n",
       "        vertical-align: middle;\n",
       "    }\n",
       "\n",
       "    .dataframe tbody tr th {\n",
       "        vertical-align: top;\n",
       "    }\n",
       "\n",
       "    .dataframe thead th {\n",
       "        text-align: right;\n",
       "    }\n",
       "</style>\n",
       "<table border=\"1\" class=\"dataframe\">\n",
       "  <thead>\n",
       "    <tr style=\"text-align: right;\">\n",
       "      <th></th>\n",
       "      <th>Avg_Jan</th>\n",
       "      <th>Avg_NonJan</th>\n",
       "      <th>T_Test</th>\n",
       "      <th>P_Value</th>\n",
       "    </tr>\n",
       "    <tr>\n",
       "      <th>Ticker</th>\n",
       "      <th></th>\n",
       "      <th></th>\n",
       "      <th></th>\n",
       "      <th></th>\n",
       "    </tr>\n",
       "  </thead>\n",
       "  <tbody>\n",
       "  </tbody>\n",
       "</table>\n",
       "</div>"
      ],
      "text/plain": [
       "Empty DataFrame\n",
       "Columns: [Avg_Jan, Avg_NonJan, T_Test, P_Value]\n",
       "Index: []"
      ]
     },
     "execution_count": 45,
     "metadata": {},
     "output_type": "execute_result"
    }
   ],
   "source": [
    "results_stock.head(0)"
   ]
  },
  {
   "cell_type": "code",
   "execution_count": null,
   "metadata": {},
   "outputs": [],
   "source": []
  },
  {
   "cell_type": "markdown",
   "metadata": {},
   "source": [
    "### 6. b. Use the DataFrame results_year to output the observations where the January effect hypothesis is true with a 95% degree of confidence. What about the observations where the hypothesis is true with 90% degree of confidence."
   ]
  },
  {
   "cell_type": "code",
   "execution_count": null,
   "metadata": {
    "scrolled": false
   },
   "outputs": [],
   "source": []
  },
  {
   "cell_type": "code",
   "execution_count": null,
   "metadata": {
    "scrolled": false
   },
   "outputs": [],
   "source": []
  },
  {
   "cell_type": "markdown",
   "metadata": {},
   "source": [
    "### 7. Create a bar plot of the average return in January, as well as the average return across all non-January months, for each year in the sample."
   ]
  },
  {
   "cell_type": "code",
   "execution_count": null,
   "metadata": {
    "scrolled": false
   },
   "outputs": [],
   "source": []
  },
  {
   "cell_type": "markdown",
   "metadata": {},
   "source": [
    "### 8. Briefly explain whether the evidence is consistent with the January effect, and if not, name a couple of limitations of our dataset and/or approach."
   ]
  },
  {
   "cell_type": "code",
   "execution_count": null,
   "metadata": {},
   "outputs": [],
   "source": []
  },
  {
   "cell_type": "markdown",
   "metadata": {},
   "source": [
    "### The following questions apply to a random sample of fifteen stocks that your group will select by running the following code "
   ]
  },
  {
   "cell_type": "markdown",
   "metadata": {},
   "source": [
    "### Random Stock Selection "
   ]
  },
  {
   "cell_type": "code",
   "execution_count": 9,
   "metadata": {},
   "outputs": [],
   "source": [
    "np.random.seed (1000 + # add here your group  number as listed on Blackboard)\n",
    "ticker_list = ['AAPL', 'AXP', 'BA', 'CAT', 'CSCO', 'CVX', 'DIS', 'GS', 'HD', 'IBM', 'INTC', 'JNJ', 'JPM', 'KO',\n",
    "            'MCD', 'MMM', 'MRK', 'MSFT', 'NKE', 'PFE', 'PG', 'TRV', 'UNH', 'UTX', 'V', 'VZ', 'WMT', 'XOM']\n",
    "stock_lst = np.random.choice(ticker_list,15,replace=False)\n",
    "stock_lst"
   ]
  },
  {
   "cell_type": "markdown",
   "metadata": {},
   "source": [
    "## PART II"
   ]
  },
  {
   "cell_type": "markdown",
   "metadata": {},
   "source": [
    "### 1. Modify the returns_mon DataFrame to store only the monthly return for the fifteen stocks designated for your group. "
   ]
  },
  {
   "cell_type": "code",
   "execution_count": null,
   "metadata": {},
   "outputs": [],
   "source": []
  },
  {
   "cell_type": "markdown",
   "metadata": {},
   "source": [
    "### 2. For each stock, compute the cumulative return series over the entire sample (no reset), and store the series in a new DataFrame named sample_ret."
   ]
  },
  {
   "cell_type": "code",
   "execution_count": null,
   "metadata": {},
   "outputs": [],
   "source": []
  },
  {
   "cell_type": "markdown",
   "metadata": {},
   "source": [
    "### 3a. Which stocks were the top three performers. What were their cumulative returns over the entire sample period?"
   ]
  },
  {
   "cell_type": "code",
   "execution_count": null,
   "metadata": {
    "scrolled": true
   },
   "outputs": [],
   "source": []
  },
  {
   "cell_type": "markdown",
   "metadata": {},
   "source": [
    "### 3b. Which stocks were the worst three performers. What were their cumulative returns over the entire sample period?"
   ]
  },
  {
   "cell_type": "code",
   "execution_count": null,
   "metadata": {
    "scrolled": true
   },
   "outputs": [],
   "source": []
  },
  {
   "cell_type": "markdown",
   "metadata": {},
   "source": [
    "### 3c. Create a line plot of the series for the stocks with the highest three and lowest three cumulative returns."
   ]
  },
  {
   "cell_type": "code",
   "execution_count": null,
   "metadata": {},
   "outputs": [],
   "source": []
  },
  {
   "cell_type": "markdown",
   "metadata": {},
   "source": [
    "## PART III"
   ]
  },
  {
   "cell_type": "markdown",
   "metadata": {},
   "source": [
    "### 1. Use the DataFrame returns_mon to create a new DataFrame named data_intial that only has the data from January 2013 to December 2017. In addition, create another DataFrame named data_post to store the 2018 and 2019 data."
   ]
  },
  {
   "cell_type": "code",
   "execution_count": null,
   "metadata": {},
   "outputs": [],
   "source": []
  },
  {
   "cell_type": "code",
   "execution_count": null,
   "metadata": {},
   "outputs": [],
   "source": []
  },
  {
   "cell_type": "markdown",
   "metadata": {},
   "source": [
    "### 2. Create a DataFrame named rf_rate to store the risk free rate over the period from January 2013 to December 2019. The risk-free rate  is available in the ff_factors19.csv file on Blackboard."
   ]
  },
  {
   "cell_type": "code",
   "execution_count": null,
   "metadata": {},
   "outputs": [],
   "source": []
  },
  {
   "cell_type": "markdown",
   "metadata": {},
   "source": [
    "### 3a. Use the DataFrames data_initial and rf_rate, in conjunction with Scipy' s minimize() function to find the optimal portfolio (highest Sharpe ratio) from the universe of stocks comprised of all the stocks in your sample. (Assume there are no short-selling constraints)."
   ]
  },
  {
   "cell_type": "code",
   "execution_count": null,
   "metadata": {},
   "outputs": [],
   "source": []
  },
  {
   "cell_type": "markdown",
   "metadata": {},
   "source": [
    "### 3b. The weights of the stocks in the optimal portfolio are:"
   ]
  },
  {
   "cell_type": "code",
   "execution_count": null,
   "metadata": {},
   "outputs": [],
   "source": []
  },
  {
   "cell_type": "markdown",
   "metadata": {},
   "source": [
    "### 3c. The optimal portfolio return is:"
   ]
  },
  {
   "cell_type": "code",
   "execution_count": null,
   "metadata": {},
   "outputs": [],
   "source": []
  },
  {
   "cell_type": "markdown",
   "metadata": {},
   "source": [
    "### 3d. The optimal portfolio standard deviation is:"
   ]
  },
  {
   "cell_type": "code",
   "execution_count": null,
   "metadata": {
    "scrolled": true
   },
   "outputs": [],
   "source": []
  },
  {
   "cell_type": "markdown",
   "metadata": {},
   "source": [
    "### 3e. The Sharpe Ratio the optimal portfolio is:"
   ]
  },
  {
   "cell_type": "code",
   "execution_count": null,
   "metadata": {
    "scrolled": true
   },
   "outputs": [],
   "source": []
  },
  {
   "cell_type": "markdown",
   "metadata": {},
   "source": [
    "### 4a. What is the return of the Global Minimum Variance Portfolio (GMVP)"
   ]
  },
  {
   "cell_type": "code",
   "execution_count": null,
   "metadata": {},
   "outputs": [],
   "source": []
  },
  {
   "cell_type": "markdown",
   "metadata": {},
   "source": [
    "### 4b. What is the standard deviation of the Global Minimum Variance Portfolio (GMVP)"
   ]
  },
  {
   "cell_type": "code",
   "execution_count": null,
   "metadata": {},
   "outputs": [],
   "source": []
  },
  {
   "cell_type": "markdown",
   "metadata": {},
   "source": [
    "### 4c. What are the weights of the stocks in the Global Minimum Variance Portfolio (GMVP)"
   ]
  },
  {
   "cell_type": "code",
   "execution_count": null,
   "metadata": {},
   "outputs": [],
   "source": []
  },
  {
   "cell_type": "markdown",
   "metadata": {},
   "source": [
    "### 5. Use Scipy's minimize() function to solve for the efficient frontier. In addition, plot it, add to the plot the fifteen stocks, the GMVP, the optimal portfolio, as well as the Capital Allocation Line."
   ]
  },
  {
   "cell_type": "code",
   "execution_count": null,
   "metadata": {},
   "outputs": [],
   "source": []
  },
  {
   "cell_type": "code",
   "execution_count": null,
   "metadata": {},
   "outputs": [],
   "source": []
  },
  {
   "cell_type": "markdown",
   "metadata": {},
   "source": [
    "## PART IV"
   ]
  },
  {
   "cell_type": "markdown",
   "metadata": {},
   "source": [
    "### 1. Create a DataFrame named weights with three columns: 1) TICKER; 2) Optimal_Weights and 3) Equal_Weights for each ticker."
   ]
  },
  {
   "cell_type": "code",
   "execution_count": null,
   "metadata": {},
   "outputs": [],
   "source": []
  },
  {
   "cell_type": "markdown",
   "metadata": {},
   "source": [
    "### 2. Using the DataFrames data_post and weights, compute the two portfolio (Optimal and Equal-weighted) monthy returns over the period January 1st, 2018 and December 31st, 2019. Store the portfolio returns into a new DataFrame named port_returns. Label the two columns as 'Optimal Portfolio' and 'EW_Portfolio'"
   ]
  },
  {
   "cell_type": "code",
   "execution_count": null,
   "metadata": {},
   "outputs": [],
   "source": []
  },
  {
   "cell_type": "markdown",
   "metadata": {},
   "source": [
    "### 3. In a single output, provide summary statistics on the two portfolios."
   ]
  },
  {
   "cell_type": "code",
   "execution_count": null,
   "metadata": {},
   "outputs": [],
   "source": []
  },
  {
   "cell_type": "markdown",
   "metadata": {},
   "source": [
    "### 4a. Compute the two-year cumulative return series for both portfolios and plot them in the same graph. "
   ]
  },
  {
   "cell_type": "code",
   "execution_count": null,
   "metadata": {},
   "outputs": [],
   "source": []
  },
  {
   "cell_type": "code",
   "execution_count": null,
   "metadata": {},
   "outputs": [],
   "source": []
  },
  {
   "cell_type": "markdown",
   "metadata": {},
   "source": [
    "### 4b. What was the two-year cumulative return for the best performer? What was the two-year cumulative return for the worst performer?"
   ]
  },
  {
   "cell_type": "code",
   "execution_count": null,
   "metadata": {},
   "outputs": [],
   "source": []
  }
 ],
 "metadata": {
  "anaconda-cloud": {},
  "kernelspec": {
   "display_name": "Python 3",
   "language": "python",
   "name": "python3"
  },
  "language_info": {
   "codemirror_mode": {
    "name": "ipython",
    "version": 3
   },
   "file_extension": ".py",
   "mimetype": "text/x-python",
   "name": "python",
   "nbconvert_exporter": "python",
   "pygments_lexer": "ipython3",
   "version": "3.7.4"
  }
 },
 "nbformat": 4,
 "nbformat_minor": 1
}
