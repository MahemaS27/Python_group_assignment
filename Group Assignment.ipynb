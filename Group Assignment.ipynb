{
 "cells": [
  {
   "cell_type": "markdown",
   "metadata": {},
   "source": [
    "# Group Assignment"
   ]
  },
  {
   "cell_type": "markdown",
   "metadata": {},
   "source": [
    "### Import the necessary libraries"
   ]
  },
  {
   "cell_type": "code",
   "execution_count": 6,
   "metadata": {},
   "outputs": [],
   "source": [
    "import pandas as pd\n",
    "import pandas_datareader.data as web\n",
    "import numpy as np\n",
    "import datetime as dt"
   ]
  },
  {
   "cell_type": "markdown",
   "metadata": {},
   "source": [
    "## PART I"
   ]
  },
  {
   "cell_type": "markdown",
   "metadata": {},
   "source": [
    "## Examination of the January Effect\n",
    "### The January Effect's main hypothesis states that stock returns are, on average, higher during January than during other months."
   ]
  },
  {
   "cell_type": "markdown",
   "metadata": {},
   "source": [
    "### 1. Download pricing data from Yahoo!Finance for each of the stocks in the ticker_list below and compute the continuously compounded daily returns using the Adjusted Closing price. Store these daily returns in a DataFrame called returns. Label the columns as 'RET_ticker', where ticker represents the trading symbol of the stock whose returns are stored in that column."
   ]
  },
  {
   "cell_type": "code",
   "execution_count": 16,
   "metadata": {},
   "outputs": [],
   "source": [
    "ticker_list = ['AAPL', 'AXP', 'BA', 'CAT', 'CSCO', 'CVX', 'DIS', 'GS', 'HD', 'IBM', 'INTC', 'JNJ', 'JPM', 'KO',\n",
    "            'MCD', 'MMM', 'MRK', 'MSFT', 'NKE', 'PFE', 'PG', 'TRV', 'UNH', 'UTX', 'V', 'VZ', 'WMT', 'XOM']"
   ]
  },
  {
   "cell_type": "code",
   "execution_count": 17,
   "metadata": {},
   "outputs": [],
   "source": [
    "yahoo = web.DataReader(ticker_list, 'yahoo')\n"
   ]
  },
  {
   "cell_type": "code",
   "execution_count": 18,
   "metadata": {},
   "outputs": [
    {
     "data": {
      "text/html": [
       "<div>\n",
       "<style scoped>\n",
       "    .dataframe tbody tr th:only-of-type {\n",
       "        vertical-align: middle;\n",
       "    }\n",
       "\n",
       "    .dataframe tbody tr th {\n",
       "        vertical-align: top;\n",
       "    }\n",
       "\n",
       "    .dataframe thead tr th {\n",
       "        text-align: left;\n",
       "    }\n",
       "\n",
       "    .dataframe thead tr:last-of-type th {\n",
       "        text-align: right;\n",
       "    }\n",
       "</style>\n",
       "<table border=\"1\" class=\"dataframe\">\n",
       "  <thead>\n",
       "    <tr>\n",
       "      <th>Attributes</th>\n",
       "      <th colspan=\"10\" halign=\"left\">Adj Close</th>\n",
       "      <th>...</th>\n",
       "      <th colspan=\"10\" halign=\"left\">Volume</th>\n",
       "    </tr>\n",
       "    <tr>\n",
       "      <th>Symbols</th>\n",
       "      <th>AAPL</th>\n",
       "      <th>AXP</th>\n",
       "      <th>BA</th>\n",
       "      <th>CAT</th>\n",
       "      <th>CSCO</th>\n",
       "      <th>CVX</th>\n",
       "      <th>DIS</th>\n",
       "      <th>GS</th>\n",
       "      <th>HD</th>\n",
       "      <th>IBM</th>\n",
       "      <th>...</th>\n",
       "      <th>NKE</th>\n",
       "      <th>PFE</th>\n",
       "      <th>PG</th>\n",
       "      <th>TRV</th>\n",
       "      <th>UNH</th>\n",
       "      <th>UTX</th>\n",
       "      <th>V</th>\n",
       "      <th>VZ</th>\n",
       "      <th>WMT</th>\n",
       "      <th>XOM</th>\n",
       "    </tr>\n",
       "    <tr>\n",
       "      <th>Date</th>\n",
       "      <th></th>\n",
       "      <th></th>\n",
       "      <th></th>\n",
       "      <th></th>\n",
       "      <th></th>\n",
       "      <th></th>\n",
       "      <th></th>\n",
       "      <th></th>\n",
       "      <th></th>\n",
       "      <th></th>\n",
       "      <th></th>\n",
       "      <th></th>\n",
       "      <th></th>\n",
       "      <th></th>\n",
       "      <th></th>\n",
       "      <th></th>\n",
       "      <th></th>\n",
       "      <th></th>\n",
       "      <th></th>\n",
       "      <th></th>\n",
       "      <th></th>\n",
       "    </tr>\n",
       "  </thead>\n",
       "  <tbody>\n",
       "    <tr>\n",
       "      <td>2015-03-19</td>\n",
       "      <td>117.333099</td>\n",
       "      <td>75.381355</td>\n",
       "      <td>134.582214</td>\n",
       "      <td>67.653015</td>\n",
       "      <td>24.135815</td>\n",
       "      <td>85.214813</td>\n",
       "      <td>100.070274</td>\n",
       "      <td>175.698196</td>\n",
       "      <td>102.699158</td>\n",
       "      <td>128.341202</td>\n",
       "      <td>...</td>\n",
       "      <td>13536000.0</td>\n",
       "      <td>20437400.0</td>\n",
       "      <td>9257500.0</td>\n",
       "      <td>1448500.0</td>\n",
       "      <td>4032500.0</td>\n",
       "      <td>2880800.0</td>\n",
       "      <td>15407500.0</td>\n",
       "      <td>13625000.0</td>\n",
       "      <td>7212900.0</td>\n",
       "      <td>12738500.0</td>\n",
       "    </tr>\n",
       "    <tr>\n",
       "      <td>2015-03-20</td>\n",
       "      <td>115.860680</td>\n",
       "      <td>76.453728</td>\n",
       "      <td>134.922791</td>\n",
       "      <td>68.582230</td>\n",
       "      <td>24.289543</td>\n",
       "      <td>87.069588</td>\n",
       "      <td>101.058205</td>\n",
       "      <td>178.620819</td>\n",
       "      <td>104.777061</td>\n",
       "      <td>130.806686</td>\n",
       "      <td>...</td>\n",
       "      <td>29779800.0</td>\n",
       "      <td>59160700.0</td>\n",
       "      <td>22580300.0</td>\n",
       "      <td>4366100.0</td>\n",
       "      <td>7195700.0</td>\n",
       "      <td>8207000.0</td>\n",
       "      <td>15372000.0</td>\n",
       "      <td>26280800.0</td>\n",
       "      <td>12365300.0</td>\n",
       "      <td>36083500.0</td>\n",
       "    </tr>\n",
       "    <tr>\n",
       "      <td>2015-03-23</td>\n",
       "      <td>117.066200</td>\n",
       "      <td>75.991508</td>\n",
       "      <td>133.446930</td>\n",
       "      <td>68.497742</td>\n",
       "      <td>24.263922</td>\n",
       "      <td>86.166611</td>\n",
       "      <td>100.862495</td>\n",
       "      <td>177.538681</td>\n",
       "      <td>103.510704</td>\n",
       "      <td>132.212097</td>\n",
       "      <td>...</td>\n",
       "      <td>10471800.0</td>\n",
       "      <td>50806000.0</td>\n",
       "      <td>9891100.0</td>\n",
       "      <td>1535500.0</td>\n",
       "      <td>4576500.0</td>\n",
       "      <td>4542800.0</td>\n",
       "      <td>8128000.0</td>\n",
       "      <td>13131700.0</td>\n",
       "      <td>6505700.0</td>\n",
       "      <td>17450700.0</td>\n",
       "    </tr>\n",
       "    <tr>\n",
       "      <td>2015-03-24</td>\n",
       "      <td>116.587677</td>\n",
       "      <td>75.224182</td>\n",
       "      <td>132.433884</td>\n",
       "      <td>67.982475</td>\n",
       "      <td>23.913759</td>\n",
       "      <td>84.767357</td>\n",
       "      <td>99.827957</td>\n",
       "      <td>176.909760</td>\n",
       "      <td>103.582047</td>\n",
       "      <td>130.903015</td>\n",
       "      <td>...</td>\n",
       "      <td>7598800.0</td>\n",
       "      <td>33163100.0</td>\n",
       "      <td>7478800.0</td>\n",
       "      <td>1217000.0</td>\n",
       "      <td>3054700.0</td>\n",
       "      <td>4033800.0</td>\n",
       "      <td>6534800.0</td>\n",
       "      <td>11419600.0</td>\n",
       "      <td>5359100.0</td>\n",
       "      <td>10174300.0</td>\n",
       "    </tr>\n",
       "    <tr>\n",
       "      <td>2015-03-25</td>\n",
       "      <td>113.541618</td>\n",
       "      <td>74.059357</td>\n",
       "      <td>129.447250</td>\n",
       "      <td>67.458748</td>\n",
       "      <td>23.452562</td>\n",
       "      <td>85.963242</td>\n",
       "      <td>97.861412</td>\n",
       "      <td>173.275009</td>\n",
       "      <td>101.379303</td>\n",
       "      <td>127.851295</td>\n",
       "      <td>...</td>\n",
       "      <td>8133400.0</td>\n",
       "      <td>29206100.0</td>\n",
       "      <td>8482200.0</td>\n",
       "      <td>1663600.0</td>\n",
       "      <td>3385500.0</td>\n",
       "      <td>4456500.0</td>\n",
       "      <td>13054300.0</td>\n",
       "      <td>14915500.0</td>\n",
       "      <td>6645900.0</td>\n",
       "      <td>11934700.0</td>\n",
       "    </tr>\n",
       "  </tbody>\n",
       "</table>\n",
       "<p>5 rows × 168 columns</p>\n",
       "</div>"
      ],
      "text/plain": [
       "Attributes   Adj Close                                               \\\n",
       "Symbols           AAPL        AXP          BA        CAT       CSCO   \n",
       "Date                                                                  \n",
       "2015-03-19  117.333099  75.381355  134.582214  67.653015  24.135815   \n",
       "2015-03-20  115.860680  76.453728  134.922791  68.582230  24.289543   \n",
       "2015-03-23  117.066200  75.991508  133.446930  68.497742  24.263922   \n",
       "2015-03-24  116.587677  75.224182  132.433884  67.982475  23.913759   \n",
       "2015-03-25  113.541618  74.059357  129.447250  67.458748  23.452562   \n",
       "\n",
       "Attributes                                                             ...  \\\n",
       "Symbols           CVX         DIS          GS          HD         IBM  ...   \n",
       "Date                                                                   ...   \n",
       "2015-03-19  85.214813  100.070274  175.698196  102.699158  128.341202  ...   \n",
       "2015-03-20  87.069588  101.058205  178.620819  104.777061  130.806686  ...   \n",
       "2015-03-23  86.166611  100.862495  177.538681  103.510704  132.212097  ...   \n",
       "2015-03-24  84.767357   99.827957  176.909760  103.582047  130.903015  ...   \n",
       "2015-03-25  85.963242   97.861412  173.275009  101.379303  127.851295  ...   \n",
       "\n",
       "Attributes      Volume                                                \\\n",
       "Symbols            NKE         PFE          PG        TRV        UNH   \n",
       "Date                                                                   \n",
       "2015-03-19  13536000.0  20437400.0   9257500.0  1448500.0  4032500.0   \n",
       "2015-03-20  29779800.0  59160700.0  22580300.0  4366100.0  7195700.0   \n",
       "2015-03-23  10471800.0  50806000.0   9891100.0  1535500.0  4576500.0   \n",
       "2015-03-24   7598800.0  33163100.0   7478800.0  1217000.0  3054700.0   \n",
       "2015-03-25   8133400.0  29206100.0   8482200.0  1663600.0  3385500.0   \n",
       "\n",
       "Attributes                                                             \n",
       "Symbols           UTX           V          VZ         WMT         XOM  \n",
       "Date                                                                   \n",
       "2015-03-19  2880800.0  15407500.0  13625000.0   7212900.0  12738500.0  \n",
       "2015-03-20  8207000.0  15372000.0  26280800.0  12365300.0  36083500.0  \n",
       "2015-03-23  4542800.0   8128000.0  13131700.0   6505700.0  17450700.0  \n",
       "2015-03-24  4033800.0   6534800.0  11419600.0   5359100.0  10174300.0  \n",
       "2015-03-25  4456500.0  13054300.0  14915500.0   6645900.0  11934700.0  \n",
       "\n",
       "[5 rows x 168 columns]"
      ]
     },
     "execution_count": 18,
     "metadata": {},
     "output_type": "execute_result"
    }
   ],
   "source": [
    "yahoo.head()"
   ]
  },
  {
   "cell_type": "code",
   "execution_count": 30,
   "metadata": {},
   "outputs": [],
   "source": [
    "adj_close = yahoo['Adj Close']\n",
    "tickers = adj_close.columns"
   ]
  },
  {
   "cell_type": "code",
   "execution_count": 34,
   "metadata": {},
   "outputs": [
    {
     "data": {
      "text/html": [
       "<div>\n",
       "<style scoped>\n",
       "    .dataframe tbody tr th:only-of-type {\n",
       "        vertical-align: middle;\n",
       "    }\n",
       "\n",
       "    .dataframe tbody tr th {\n",
       "        vertical-align: top;\n",
       "    }\n",
       "\n",
       "    .dataframe thead th {\n",
       "        text-align: right;\n",
       "    }\n",
       "</style>\n",
       "<table border=\"1\" class=\"dataframe\">\n",
       "  <thead>\n",
       "    <tr style=\"text-align: right;\">\n",
       "      <th></th>\n",
       "      <th>RET_AAPL</th>\n",
       "      <th>RET_AXP</th>\n",
       "      <th>RET_BA</th>\n",
       "      <th>RET_CAT</th>\n",
       "      <th>RET_CSCO</th>\n",
       "      <th>RET_CVX</th>\n",
       "      <th>RET_DIS</th>\n",
       "      <th>RET_GS</th>\n",
       "      <th>RET_HD</th>\n",
       "      <th>RET_IBM</th>\n",
       "      <th>...</th>\n",
       "      <th>RET_NKE</th>\n",
       "      <th>RET_PFE</th>\n",
       "      <th>RET_PG</th>\n",
       "      <th>RET_TRV</th>\n",
       "      <th>RET_UNH</th>\n",
       "      <th>RET_UTX</th>\n",
       "      <th>RET_V</th>\n",
       "      <th>RET_VZ</th>\n",
       "      <th>RET_WMT</th>\n",
       "      <th>RET_XOM</th>\n",
       "    </tr>\n",
       "    <tr>\n",
       "      <th>Date</th>\n",
       "      <th></th>\n",
       "      <th></th>\n",
       "      <th></th>\n",
       "      <th></th>\n",
       "      <th></th>\n",
       "      <th></th>\n",
       "      <th></th>\n",
       "      <th></th>\n",
       "      <th></th>\n",
       "      <th></th>\n",
       "      <th></th>\n",
       "      <th></th>\n",
       "      <th></th>\n",
       "      <th></th>\n",
       "      <th></th>\n",
       "      <th></th>\n",
       "      <th></th>\n",
       "      <th></th>\n",
       "      <th></th>\n",
       "      <th></th>\n",
       "      <th></th>\n",
       "    </tr>\n",
       "  </thead>\n",
       "  <tbody>\n",
       "    <tr>\n",
       "      <td>2015-03-19</td>\n",
       "      <td>NaN</td>\n",
       "      <td>NaN</td>\n",
       "      <td>NaN</td>\n",
       "      <td>NaN</td>\n",
       "      <td>NaN</td>\n",
       "      <td>NaN</td>\n",
       "      <td>NaN</td>\n",
       "      <td>NaN</td>\n",
       "      <td>NaN</td>\n",
       "      <td>NaN</td>\n",
       "      <td>...</td>\n",
       "      <td>NaN</td>\n",
       "      <td>NaN</td>\n",
       "      <td>NaN</td>\n",
       "      <td>NaN</td>\n",
       "      <td>NaN</td>\n",
       "      <td>NaN</td>\n",
       "      <td>NaN</td>\n",
       "      <td>NaN</td>\n",
       "      <td>NaN</td>\n",
       "      <td>NaN</td>\n",
       "    </tr>\n",
       "    <tr>\n",
       "      <td>2015-03-20</td>\n",
       "      <td>-0.012628</td>\n",
       "      <td>0.014126</td>\n",
       "      <td>0.002527</td>\n",
       "      <td>0.013642</td>\n",
       "      <td>0.006349</td>\n",
       "      <td>0.021532</td>\n",
       "      <td>0.009824</td>\n",
       "      <td>0.016497</td>\n",
       "      <td>0.020031</td>\n",
       "      <td>0.019028</td>\n",
       "      <td>...</td>\n",
       "      <td>0.036549</td>\n",
       "      <td>0.002924</td>\n",
       "      <td>0.016179</td>\n",
       "      <td>0.005666</td>\n",
       "      <td>-0.013506</td>\n",
       "      <td>0.000670</td>\n",
       "      <td>0.008940</td>\n",
       "      <td>0.005260</td>\n",
       "      <td>0.020880</td>\n",
       "      <td>0.001539</td>\n",
       "    </tr>\n",
       "    <tr>\n",
       "      <td>2015-03-23</td>\n",
       "      <td>0.010351</td>\n",
       "      <td>-0.006064</td>\n",
       "      <td>-0.010999</td>\n",
       "      <td>-0.001233</td>\n",
       "      <td>-0.001055</td>\n",
       "      <td>-0.010425</td>\n",
       "      <td>-0.001938</td>\n",
       "      <td>-0.006077</td>\n",
       "      <td>-0.012160</td>\n",
       "      <td>0.010687</td>\n",
       "      <td>...</td>\n",
       "      <td>-0.005112</td>\n",
       "      <td>0.023089</td>\n",
       "      <td>0.001415</td>\n",
       "      <td>-0.001003</td>\n",
       "      <td>-0.000840</td>\n",
       "      <td>-0.006551</td>\n",
       "      <td>-0.004907</td>\n",
       "      <td>0.001613</td>\n",
       "      <td>0.000841</td>\n",
       "      <td>0.010472</td>\n",
       "    </tr>\n",
       "    <tr>\n",
       "      <td>2015-03-24</td>\n",
       "      <td>-0.004096</td>\n",
       "      <td>-0.010149</td>\n",
       "      <td>-0.007620</td>\n",
       "      <td>-0.007551</td>\n",
       "      <td>-0.014537</td>\n",
       "      <td>-0.016372</td>\n",
       "      <td>-0.010310</td>\n",
       "      <td>-0.003549</td>\n",
       "      <td>0.000689</td>\n",
       "      <td>-0.009951</td>\n",
       "      <td>...</td>\n",
       "      <td>-0.008015</td>\n",
       "      <td>-0.015237</td>\n",
       "      <td>-0.011139</td>\n",
       "      <td>-0.003564</td>\n",
       "      <td>-0.007759</td>\n",
       "      <td>0.002020</td>\n",
       "      <td>0.000298</td>\n",
       "      <td>-0.004644</td>\n",
       "      <td>-0.003126</td>\n",
       "      <td>-0.010709</td>\n",
       "    </tr>\n",
       "    <tr>\n",
       "      <td>2015-03-25</td>\n",
       "      <td>-0.026474</td>\n",
       "      <td>-0.015606</td>\n",
       "      <td>-0.022810</td>\n",
       "      <td>-0.007734</td>\n",
       "      <td>-0.019474</td>\n",
       "      <td>0.014009</td>\n",
       "      <td>-0.019896</td>\n",
       "      <td>-0.020760</td>\n",
       "      <td>-0.021495</td>\n",
       "      <td>-0.023589</td>\n",
       "      <td>...</td>\n",
       "      <td>-0.016630</td>\n",
       "      <td>-0.006393</td>\n",
       "      <td>-0.010903</td>\n",
       "      <td>-0.014942</td>\n",
       "      <td>-0.013466</td>\n",
       "      <td>-0.020903</td>\n",
       "      <td>-0.020628</td>\n",
       "      <td>-0.013858</td>\n",
       "      <td>-0.021051</td>\n",
       "      <td>0.004014</td>\n",
       "    </tr>\n",
       "    <tr>\n",
       "      <td>...</td>\n",
       "      <td>...</td>\n",
       "      <td>...</td>\n",
       "      <td>...</td>\n",
       "      <td>...</td>\n",
       "      <td>...</td>\n",
       "      <td>...</td>\n",
       "      <td>...</td>\n",
       "      <td>...</td>\n",
       "      <td>...</td>\n",
       "      <td>...</td>\n",
       "      <td>...</td>\n",
       "      <td>...</td>\n",
       "      <td>...</td>\n",
       "      <td>...</td>\n",
       "      <td>...</td>\n",
       "      <td>...</td>\n",
       "      <td>...</td>\n",
       "      <td>...</td>\n",
       "      <td>...</td>\n",
       "      <td>...</td>\n",
       "      <td>...</td>\n",
       "    </tr>\n",
       "    <tr>\n",
       "      <td>2020-03-11</td>\n",
       "      <td>-0.035348</td>\n",
       "      <td>-0.079769</td>\n",
       "      <td>-0.200291</td>\n",
       "      <td>-0.056005</td>\n",
       "      <td>-0.078609</td>\n",
       "      <td>-0.023214</td>\n",
       "      <td>-0.054860</td>\n",
       "      <td>-0.069981</td>\n",
       "      <td>-0.051763</td>\n",
       "      <td>-0.056042</td>\n",
       "      <td>...</td>\n",
       "      <td>-0.049923</td>\n",
       "      <td>-0.072530</td>\n",
       "      <td>-0.077233</td>\n",
       "      <td>-0.060060</td>\n",
       "      <td>-0.007960</td>\n",
       "      <td>-0.104644</td>\n",
       "      <td>-0.054295</td>\n",
       "      <td>-0.030357</td>\n",
       "      <td>-0.045777</td>\n",
       "      <td>-0.033497</td>\n",
       "    </tr>\n",
       "    <tr>\n",
       "      <td>2020-03-12</td>\n",
       "      <td>-0.103978</td>\n",
       "      <td>-0.132663</td>\n",
       "      <td>-0.199778</td>\n",
       "      <td>-0.087436</td>\n",
       "      <td>-0.109718</td>\n",
       "      <td>-0.085053</td>\n",
       "      <td>-0.139085</td>\n",
       "      <td>-0.131696</td>\n",
       "      <td>-0.110651</td>\n",
       "      <td>-0.137548</td>\n",
       "      <td>...</td>\n",
       "      <td>-0.124053</td>\n",
       "      <td>-0.069170</td>\n",
       "      <td>-0.091428</td>\n",
       "      <td>-0.097106</td>\n",
       "      <td>-0.103730</td>\n",
       "      <td>-0.047721</td>\n",
       "      <td>-0.077329</td>\n",
       "      <td>-0.068498</td>\n",
       "      <td>-0.095092</td>\n",
       "      <td>-0.121422</td>\n",
       "    </tr>\n",
       "    <tr>\n",
       "      <td>2020-03-13</td>\n",
       "      <td>0.113157</td>\n",
       "      <td>0.175956</td>\n",
       "      <td>0.094582</td>\n",
       "      <td>0.076953</td>\n",
       "      <td>0.125517</td>\n",
       "      <td>0.089739</td>\n",
       "      <td>0.110337</td>\n",
       "      <td>0.161951</td>\n",
       "      <td>0.076148</td>\n",
       "      <td>0.048786</td>\n",
       "      <td>...</td>\n",
       "      <td>0.018428</td>\n",
       "      <td>0.085817</td>\n",
       "      <td>0.113409</td>\n",
       "      <td>0.050290</td>\n",
       "      <td>0.087172</td>\n",
       "      <td>0.027900</td>\n",
       "      <td>0.093844</td>\n",
       "      <td>0.056388</td>\n",
       "      <td>0.092204</td>\n",
       "      <td>0.024968</td>\n",
       "    </tr>\n",
       "    <tr>\n",
       "      <td>2020-03-16</td>\n",
       "      <td>-0.137708</td>\n",
       "      <td>-0.148328</td>\n",
       "      <td>-0.272444</td>\n",
       "      <td>-0.064565</td>\n",
       "      <td>-0.110273</td>\n",
       "      <td>-0.179688</td>\n",
       "      <td>-0.076076</td>\n",
       "      <td>-0.135881</td>\n",
       "      <td>-0.220570</td>\n",
       "      <td>-0.085741</td>\n",
       "      <td>...</td>\n",
       "      <td>-0.123638</td>\n",
       "      <td>-0.080501</td>\n",
       "      <td>-0.050062</td>\n",
       "      <td>-0.233199</td>\n",
       "      <td>-0.189671</td>\n",
       "      <td>-0.147673</td>\n",
       "      <td>-0.145571</td>\n",
       "      <td>-0.060498</td>\n",
       "      <td>-0.066492</td>\n",
       "      <td>-0.100070</td>\n",
       "    </tr>\n",
       "    <tr>\n",
       "      <td>2020-03-17</td>\n",
       "      <td>0.043031</td>\n",
       "      <td>0.008234</td>\n",
       "      <td>-0.043120</td>\n",
       "      <td>0.070170</td>\n",
       "      <td>0.051738</td>\n",
       "      <td>0.014104</td>\n",
       "      <td>-0.015700</td>\n",
       "      <td>0.025597</td>\n",
       "      <td>0.051281</td>\n",
       "      <td>0.073625</td>\n",
       "      <td>...</td>\n",
       "      <td>0.044653</td>\n",
       "      <td>0.063544</td>\n",
       "      <td>0.085966</td>\n",
       "      <td>0.124783</td>\n",
       "      <td>0.081791</td>\n",
       "      <td>0.020788</td>\n",
       "      <td>0.037952</td>\n",
       "      <td>0.063079</td>\n",
       "      <td>0.110723</td>\n",
       "      <td>0.065100</td>\n",
       "    </tr>\n",
       "  </tbody>\n",
       "</table>\n",
       "<p>1258 rows × 28 columns</p>\n",
       "</div>"
      ],
      "text/plain": [
       "            RET_AAPL   RET_AXP    RET_BA   RET_CAT  RET_CSCO   RET_CVX  \\\n",
       "Date                                                                     \n",
       "2015-03-19       NaN       NaN       NaN       NaN       NaN       NaN   \n",
       "2015-03-20 -0.012628  0.014126  0.002527  0.013642  0.006349  0.021532   \n",
       "2015-03-23  0.010351 -0.006064 -0.010999 -0.001233 -0.001055 -0.010425   \n",
       "2015-03-24 -0.004096 -0.010149 -0.007620 -0.007551 -0.014537 -0.016372   \n",
       "2015-03-25 -0.026474 -0.015606 -0.022810 -0.007734 -0.019474  0.014009   \n",
       "...              ...       ...       ...       ...       ...       ...   \n",
       "2020-03-11 -0.035348 -0.079769 -0.200291 -0.056005 -0.078609 -0.023214   \n",
       "2020-03-12 -0.103978 -0.132663 -0.199778 -0.087436 -0.109718 -0.085053   \n",
       "2020-03-13  0.113157  0.175956  0.094582  0.076953  0.125517  0.089739   \n",
       "2020-03-16 -0.137708 -0.148328 -0.272444 -0.064565 -0.110273 -0.179688   \n",
       "2020-03-17  0.043031  0.008234 -0.043120  0.070170  0.051738  0.014104   \n",
       "\n",
       "             RET_DIS    RET_GS    RET_HD   RET_IBM  ...   RET_NKE   RET_PFE  \\\n",
       "Date                                                ...                       \n",
       "2015-03-19       NaN       NaN       NaN       NaN  ...       NaN       NaN   \n",
       "2015-03-20  0.009824  0.016497  0.020031  0.019028  ...  0.036549  0.002924   \n",
       "2015-03-23 -0.001938 -0.006077 -0.012160  0.010687  ... -0.005112  0.023089   \n",
       "2015-03-24 -0.010310 -0.003549  0.000689 -0.009951  ... -0.008015 -0.015237   \n",
       "2015-03-25 -0.019896 -0.020760 -0.021495 -0.023589  ... -0.016630 -0.006393   \n",
       "...              ...       ...       ...       ...  ...       ...       ...   \n",
       "2020-03-11 -0.054860 -0.069981 -0.051763 -0.056042  ... -0.049923 -0.072530   \n",
       "2020-03-12 -0.139085 -0.131696 -0.110651 -0.137548  ... -0.124053 -0.069170   \n",
       "2020-03-13  0.110337  0.161951  0.076148  0.048786  ...  0.018428  0.085817   \n",
       "2020-03-16 -0.076076 -0.135881 -0.220570 -0.085741  ... -0.123638 -0.080501   \n",
       "2020-03-17 -0.015700  0.025597  0.051281  0.073625  ...  0.044653  0.063544   \n",
       "\n",
       "              RET_PG   RET_TRV   RET_UNH   RET_UTX     RET_V    RET_VZ  \\\n",
       "Date                                                                     \n",
       "2015-03-19       NaN       NaN       NaN       NaN       NaN       NaN   \n",
       "2015-03-20  0.016179  0.005666 -0.013506  0.000670  0.008940  0.005260   \n",
       "2015-03-23  0.001415 -0.001003 -0.000840 -0.006551 -0.004907  0.001613   \n",
       "2015-03-24 -0.011139 -0.003564 -0.007759  0.002020  0.000298 -0.004644   \n",
       "2015-03-25 -0.010903 -0.014942 -0.013466 -0.020903 -0.020628 -0.013858   \n",
       "...              ...       ...       ...       ...       ...       ...   \n",
       "2020-03-11 -0.077233 -0.060060 -0.007960 -0.104644 -0.054295 -0.030357   \n",
       "2020-03-12 -0.091428 -0.097106 -0.103730 -0.047721 -0.077329 -0.068498   \n",
       "2020-03-13  0.113409  0.050290  0.087172  0.027900  0.093844  0.056388   \n",
       "2020-03-16 -0.050062 -0.233199 -0.189671 -0.147673 -0.145571 -0.060498   \n",
       "2020-03-17  0.085966  0.124783  0.081791  0.020788  0.037952  0.063079   \n",
       "\n",
       "             RET_WMT   RET_XOM  \n",
       "Date                            \n",
       "2015-03-19       NaN       NaN  \n",
       "2015-03-20  0.020880  0.001539  \n",
       "2015-03-23  0.000841  0.010472  \n",
       "2015-03-24 -0.003126 -0.010709  \n",
       "2015-03-25 -0.021051  0.004014  \n",
       "...              ...       ...  \n",
       "2020-03-11 -0.045777 -0.033497  \n",
       "2020-03-12 -0.095092 -0.121422  \n",
       "2020-03-13  0.092204  0.024968  \n",
       "2020-03-16 -0.066492 -0.100070  \n",
       "2020-03-17  0.110723  0.065100  \n",
       "\n",
       "[1258 rows x 28 columns]"
      ]
     },
     "execution_count": 34,
     "metadata": {},
     "output_type": "execute_result"
    }
   ],
   "source": [
    "returns = pd.DataFrame() \n",
    "for ticker in tickers:\n",
    "    returns['RET_'+ticker]= np.log(adj_close[ticker]/adj_close[ticker].shift(1))\n",
    "\n",
    "    \n",
    "returns # return for each ticker "
   ]
  },
  {
   "cell_type": "markdown",
   "metadata": {},
   "source": [
    "### 2. Compute the monthly returns and store them in a DataFrame named returns_mon. (*Use the resample() method and the rule = 'BM' - Business Month End to compute the monthly returns*). "
   ]
  },
  {
   "cell_type": "code",
   "execution_count": null,
   "metadata": {},
   "outputs": [],
   "source": []
  },
  {
   "cell_type": "markdown",
   "metadata": {},
   "source": [
    "### 3. Create a dummy variable (labeled \"JAN_DUMMY\") in the DataFrame returns_mon, and assign it a value of 1 if the month is January, and 0 otherwise."
   ]
  },
  {
   "cell_type": "code",
   "execution_count": null,
   "metadata": {
    "scrolled": false
   },
   "outputs": [],
   "source": []
  },
  {
   "cell_type": "markdown",
   "metadata": {},
   "source": [
    "### 4. Use the DataFrame returns_mon to compute the average returns in January, and during non-January months for each year and for each stock, and store them in a new DataFrame named returns_jan_mon. "
   ]
  },
  {
   "cell_type": "code",
   "execution_count": null,
   "metadata": {
    "scrolled": true
   },
   "outputs": [],
   "source": []
  },
  {
   "cell_type": "markdown",
   "metadata": {},
   "source": [
    "### 5. a. Use the DataFrame returns_mon_jan to test, for each stock, whether the average return in January is higher than the average return on non-January months. Store the t-tests and p-values in a Dataframe called results_stock, along with the average returns in January, and during non-January months for each stock. The heading for the DataFrame is found below:"
   ]
  },
  {
   "cell_type": "code",
   "execution_count": 45,
   "metadata": {
    "scrolled": true
   },
   "outputs": [
    {
     "data": {
      "text/html": [
       "<div>\n",
       "<style scoped>\n",
       "    .dataframe tbody tr th:only-of-type {\n",
       "        vertical-align: middle;\n",
       "    }\n",
       "\n",
       "    .dataframe tbody tr th {\n",
       "        vertical-align: top;\n",
       "    }\n",
       "\n",
       "    .dataframe thead th {\n",
       "        text-align: right;\n",
       "    }\n",
       "</style>\n",
       "<table border=\"1\" class=\"dataframe\">\n",
       "  <thead>\n",
       "    <tr style=\"text-align: right;\">\n",
       "      <th></th>\n",
       "      <th>Avg_Jan</th>\n",
       "      <th>Avg_NonJan</th>\n",
       "      <th>T_Test</th>\n",
       "      <th>P_Value</th>\n",
       "    </tr>\n",
       "    <tr>\n",
       "      <th>Ticker</th>\n",
       "      <th></th>\n",
       "      <th></th>\n",
       "      <th></th>\n",
       "      <th></th>\n",
       "    </tr>\n",
       "  </thead>\n",
       "  <tbody>\n",
       "  </tbody>\n",
       "</table>\n",
       "</div>"
      ],
      "text/plain": [
       "Empty DataFrame\n",
       "Columns: [Avg_Jan, Avg_NonJan, T_Test, P_Value]\n",
       "Index: []"
      ]
     },
     "execution_count": 45,
     "metadata": {},
     "output_type": "execute_result"
    }
   ],
   "source": [
    "results_stock.head(0)"
   ]
  },
  {
   "cell_type": "code",
   "execution_count": null,
   "metadata": {
    "scrolled": false
   },
   "outputs": [],
   "source": []
  },
  {
   "cell_type": "markdown",
   "metadata": {},
   "source": [
    "### 5. b. Use the DataFrame results_stock to output the stocks for which the January effect hypothesis is true with a 95% degree of confidence. What about the observations where the hypothesis is true with 90% degree of confidence."
   ]
  },
  {
   "cell_type": "code",
   "execution_count": null,
   "metadata": {
    "scrolled": true
   },
   "outputs": [],
   "source": []
  },
  {
   "cell_type": "code",
   "execution_count": null,
   "metadata": {
    "scrolled": true
   },
   "outputs": [],
   "source": []
  },
  {
   "cell_type": "markdown",
   "metadata": {},
   "source": [
    "### 6. a. Use the DataFrame returns_mon_jan to test, for each year, whether the average return in January is different from the average return on non-January months. Store the t-tests and p-values in a Dataframe called results_year, along with the average returns in January, and during non-January months for each year. The heading for the DataFrame is found below:"
   ]
  },
  {
   "cell_type": "code",
   "execution_count": 45,
   "metadata": {
    "scrolled": true
   },
   "outputs": [
    {
     "data": {
      "text/html": [
       "<div>\n",
       "<style scoped>\n",
       "    .dataframe tbody tr th:only-of-type {\n",
       "        vertical-align: middle;\n",
       "    }\n",
       "\n",
       "    .dataframe tbody tr th {\n",
       "        vertical-align: top;\n",
       "    }\n",
       "\n",
       "    .dataframe thead th {\n",
       "        text-align: right;\n",
       "    }\n",
       "</style>\n",
       "<table border=\"1\" class=\"dataframe\">\n",
       "  <thead>\n",
       "    <tr style=\"text-align: right;\">\n",
       "      <th></th>\n",
       "      <th>Avg_Jan</th>\n",
       "      <th>Avg_NonJan</th>\n",
       "      <th>T_Test</th>\n",
       "      <th>P_Value</th>\n",
       "    </tr>\n",
       "    <tr>\n",
       "      <th>Ticker</th>\n",
       "      <th></th>\n",
       "      <th></th>\n",
       "      <th></th>\n",
       "      <th></th>\n",
       "    </tr>\n",
       "  </thead>\n",
       "  <tbody>\n",
       "  </tbody>\n",
       "</table>\n",
       "</div>"
      ],
      "text/plain": [
       "Empty DataFrame\n",
       "Columns: [Avg_Jan, Avg_NonJan, T_Test, P_Value]\n",
       "Index: []"
      ]
     },
     "execution_count": 45,
     "metadata": {},
     "output_type": "execute_result"
    }
   ],
   "source": [
    "results_stock.head(0)"
   ]
  },
  {
   "cell_type": "code",
   "execution_count": null,
   "metadata": {},
   "outputs": [],
   "source": []
  },
  {
   "cell_type": "markdown",
   "metadata": {},
   "source": [
    "### 6. b. Use the DataFrame results_year to output the observations where the January effect hypothesis is true with a 95% degree of confidence. What about the observations where the hypothesis is true with 90% degree of confidence."
   ]
  },
  {
   "cell_type": "code",
   "execution_count": null,
   "metadata": {
    "scrolled": false
   },
   "outputs": [],
   "source": []
  },
  {
   "cell_type": "code",
   "execution_count": null,
   "metadata": {
    "scrolled": false
   },
   "outputs": [],
   "source": []
  },
  {
   "cell_type": "markdown",
   "metadata": {},
   "source": [
    "### 7. Create a bar plot of the average return in January, as well as the average return across all non-January months, for each year in the sample."
   ]
  },
  {
   "cell_type": "code",
   "execution_count": null,
   "metadata": {
    "scrolled": false
   },
   "outputs": [],
   "source": []
  },
  {
   "cell_type": "markdown",
   "metadata": {},
   "source": [
    "### 8. Briefly explain whether the evidence is consistent with the January effect, and if not, name a couple of limitations of our dataset and/or approach."
   ]
  },
  {
   "cell_type": "code",
   "execution_count": null,
   "metadata": {},
   "outputs": [],
   "source": []
  },
  {
   "cell_type": "markdown",
   "metadata": {},
   "source": [
    "### The following questions apply to a random sample of fifteen stocks that your group will select by running the following code "
   ]
  },
  {
   "cell_type": "markdown",
   "metadata": {},
   "source": [
    "### Random Stock Selection "
   ]
  },
  {
   "cell_type": "code",
   "execution_count": 9,
   "metadata": {},
   "outputs": [],
   "source": [
    "np.random.seed (1000 + # add here your group  number as listed on Blackboard)\n",
    "ticker_list = ['AAPL', 'AXP', 'BA', 'CAT', 'CSCO', 'CVX', 'DIS', 'GS', 'HD', 'IBM', 'INTC', 'JNJ', 'JPM', 'KO',\n",
    "            'MCD', 'MMM', 'MRK', 'MSFT', 'NKE', 'PFE', 'PG', 'TRV', 'UNH', 'UTX', 'V', 'VZ', 'WMT', 'XOM']\n",
    "stock_lst = np.random.choice(ticker_list,15,replace=False)\n",
    "stock_lst"
   ]
  },
  {
   "cell_type": "markdown",
   "metadata": {},
   "source": [
    "## PART II"
   ]
  },
  {
   "cell_type": "markdown",
   "metadata": {},
   "source": [
    "### 1. Modify the returns_mon DataFrame to store only the monthly return for the fifteen stocks designated for your group. "
   ]
  },
  {
   "cell_type": "code",
   "execution_count": null,
   "metadata": {},
   "outputs": [],
   "source": []
  },
  {
   "cell_type": "markdown",
   "metadata": {},
   "source": [
    "### 2. For each stock, compute the cumulative return series over the entire sample (no reset), and store the series in a new DataFrame named sample_ret."
   ]
  },
  {
   "cell_type": "code",
   "execution_count": null,
   "metadata": {},
   "outputs": [],
   "source": []
  },
  {
   "cell_type": "markdown",
   "metadata": {},
   "source": [
    "### 3a. Which stocks were the top three performers. What were their cumulative returns over the entire sample period?"
   ]
  },
  {
   "cell_type": "code",
   "execution_count": null,
   "metadata": {
    "scrolled": true
   },
   "outputs": [],
   "source": []
  },
  {
   "cell_type": "markdown",
   "metadata": {},
   "source": [
    "### 3b. Which stocks were the worst three performers. What were their cumulative returns over the entire sample period?"
   ]
  },
  {
   "cell_type": "code",
   "execution_count": null,
   "metadata": {
    "scrolled": true
   },
   "outputs": [],
   "source": []
  },
  {
   "cell_type": "markdown",
   "metadata": {},
   "source": [
    "### 3c. Create a line plot of the series for the stocks with the highest three and lowest three cumulative returns."
   ]
  },
  {
   "cell_type": "code",
   "execution_count": null,
   "metadata": {},
   "outputs": [],
   "source": []
  },
  {
   "cell_type": "markdown",
   "metadata": {},
   "source": [
    "## PART III"
   ]
  },
  {
   "cell_type": "markdown",
   "metadata": {},
   "source": [
    "### 1. Use the DataFrame returns_mon to create a new DataFrame named data_intial that only has the data from January 2013 to December 2017. In addition, create another DataFrame named data_post to store the 2018 and 2019 data."
   ]
  },
  {
   "cell_type": "code",
   "execution_count": null,
   "metadata": {},
   "outputs": [],
   "source": []
  },
  {
   "cell_type": "code",
   "execution_count": null,
   "metadata": {},
   "outputs": [],
   "source": []
  },
  {
   "cell_type": "markdown",
   "metadata": {},
   "source": [
    "### 2. Create a DataFrame named rf_rate to store the risk free rate over the period from January 2013 to December 2019. The risk-free rate  is available in the ff_factors19.csv file on Blackboard."
   ]
  },
  {
   "cell_type": "code",
   "execution_count": null,
   "metadata": {},
   "outputs": [],
   "source": []
  },
  {
   "cell_type": "markdown",
   "metadata": {},
   "source": [
    "### 3a. Use the DataFrames data_initial and rf_rate, in conjunction with Scipy' s minimize() function to find the optimal portfolio (highest Sharpe ratio) from the universe of stocks comprised of all the stocks in your sample. (Assume there are no short-selling constraints)."
   ]
  },
  {
   "cell_type": "code",
   "execution_count": null,
   "metadata": {},
   "outputs": [],
   "source": []
  },
  {
   "cell_type": "markdown",
   "metadata": {},
   "source": [
    "### 3b. The weights of the stocks in the optimal portfolio are:"
   ]
  },
  {
   "cell_type": "code",
   "execution_count": null,
   "metadata": {},
   "outputs": [],
   "source": []
  },
  {
   "cell_type": "markdown",
   "metadata": {},
   "source": [
    "### 3c. The optimal portfolio return is:"
   ]
  },
  {
   "cell_type": "code",
   "execution_count": null,
   "metadata": {},
   "outputs": [],
   "source": []
  },
  {
   "cell_type": "markdown",
   "metadata": {},
   "source": [
    "### 3d. The optimal portfolio standard deviation is:"
   ]
  },
  {
   "cell_type": "code",
   "execution_count": null,
   "metadata": {
    "scrolled": true
   },
   "outputs": [],
   "source": []
  },
  {
   "cell_type": "markdown",
   "metadata": {},
   "source": [
    "### 3e. The Sharpe Ratio the optimal portfolio is:"
   ]
  },
  {
   "cell_type": "code",
   "execution_count": null,
   "metadata": {
    "scrolled": true
   },
   "outputs": [],
   "source": []
  },
  {
   "cell_type": "markdown",
   "metadata": {},
   "source": [
    "### 4a. What is the return of the Global Minimum Variance Portfolio (GMVP)"
   ]
  },
  {
   "cell_type": "code",
   "execution_count": null,
   "metadata": {},
   "outputs": [],
   "source": []
  },
  {
   "cell_type": "markdown",
   "metadata": {},
   "source": [
    "### 4b. What is the standard deviation of the Global Minimum Variance Portfolio (GMVP)"
   ]
  },
  {
   "cell_type": "code",
   "execution_count": null,
   "metadata": {},
   "outputs": [],
   "source": []
  },
  {
   "cell_type": "markdown",
   "metadata": {},
   "source": [
    "### 4c. What are the weights of the stocks in the Global Minimum Variance Portfolio (GMVP)"
   ]
  },
  {
   "cell_type": "code",
   "execution_count": null,
   "metadata": {},
   "outputs": [],
   "source": []
  },
  {
   "cell_type": "markdown",
   "metadata": {},
   "source": [
    "### 5. Use Scipy's minimize() function to solve for the efficient frontier. In addition, plot it, add to the plot the fifteen stocks, the GMVP, the optimal portfolio, as well as the Capital Allocation Line."
   ]
  },
  {
   "cell_type": "code",
   "execution_count": null,
   "metadata": {},
   "outputs": [],
   "source": []
  },
  {
   "cell_type": "code",
   "execution_count": null,
   "metadata": {},
   "outputs": [],
   "source": []
  },
  {
   "cell_type": "markdown",
   "metadata": {},
   "source": [
    "## PART IV"
   ]
  },
  {
   "cell_type": "markdown",
   "metadata": {},
   "source": [
    "### 1. Create a DataFrame named weights with three columns: 1) TICKER; 2) Optimal_Weights and 3) Equal_Weights for each ticker."
   ]
  },
  {
   "cell_type": "code",
   "execution_count": null,
   "metadata": {},
   "outputs": [],
   "source": []
  },
  {
   "cell_type": "markdown",
   "metadata": {},
   "source": [
    "### 2. Using the DataFrames data_post and weights, compute the two portfolio (Optimal and Equal-weighted) monthy returns over the period January 1st, 2018 and December 31st, 2019. Store the portfolio returns into a new DataFrame named port_returns. Label the two columns as 'Optimal Portfolio' and 'EW_Portfolio'"
   ]
  },
  {
   "cell_type": "code",
   "execution_count": null,
   "metadata": {},
   "outputs": [],
   "source": []
  },
  {
   "cell_type": "markdown",
   "metadata": {},
   "source": [
    "### 3. In a single output, provide summary statistics on the two portfolios."
   ]
  },
  {
   "cell_type": "code",
   "execution_count": null,
   "metadata": {},
   "outputs": [],
   "source": []
  },
  {
   "cell_type": "markdown",
   "metadata": {},
   "source": [
    "### 4a. Compute the two-year cumulative return series for both portfolios and plot them in the same graph. "
   ]
  },
  {
   "cell_type": "code",
   "execution_count": null,
   "metadata": {},
   "outputs": [],
   "source": []
  },
  {
   "cell_type": "code",
   "execution_count": null,
   "metadata": {},
   "outputs": [],
   "source": []
  },
  {
   "cell_type": "markdown",
   "metadata": {},
   "source": [
    "### 4b. What was the two-year cumulative return for the best performer? What was the two-year cumulative return for the worst performer?"
   ]
  },
  {
   "cell_type": "code",
   "execution_count": null,
   "metadata": {},
   "outputs": [],
   "source": []
  }
 ],
 "metadata": {
  "anaconda-cloud": {},
  "kernelspec": {
   "display_name": "Python 3",
   "language": "python",
   "name": "python3"
  },
  "language_info": {
   "codemirror_mode": {
    "name": "ipython",
    "version": 3
   },
   "file_extension": ".py",
   "mimetype": "text/x-python",
   "name": "python",
   "nbconvert_exporter": "python",
   "pygments_lexer": "ipython3",
   "version": "3.7.4"
  }
 },
 "nbformat": 4,
 "nbformat_minor": 1
}
